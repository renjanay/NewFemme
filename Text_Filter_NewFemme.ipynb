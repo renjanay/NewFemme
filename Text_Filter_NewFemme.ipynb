{
  "nbformat": 4,
  "nbformat_minor": 0,
  "metadata": {
    "colab": {
      "private_outputs": true,
      "provenance": []
    },
    "kernelspec": {
      "name": "python3",
      "display_name": "Python 3"
    },
    "language_info": {
      "name": "python"
    }
  },
  "cells": [
    {
      "cell_type": "markdown",
      "source": [
        "#Text filter for forbidden words"
      ],
      "metadata": {
        "id": "MpCcoW2t-U9g"
      }
    },
    {
      "cell_type": "code",
      "execution_count": null,
      "metadata": {
        "id": "ha6f70Qz9yDc"
      },
      "outputs": [],
      "source": [
        "pip install requests"
      ]
    },
    {
      "cell_type": "markdown",
      "source": [
        "#Method : Accessing the Drive"
      ],
      "metadata": {
        "id": "t3BAgCOWDyO6"
      }
    },
    {
      "cell_type": "code",
      "source": [
        "import requests"
      ],
      "metadata": {
        "id": "GTFlAwXJD5tT"
      },
      "execution_count": null,
      "outputs": []
    },
    {
      "cell_type": "code",
      "source": [
        "from google.colab import drive\n",
        "drive.mount('/content/drive')"
      ],
      "metadata": {
        "id": "jaYPV5SyFXma"
      },
      "execution_count": null,
      "outputs": []
    },
    {
      "cell_type": "code",
      "source": [
        "filepath = \"/content/drive/My Drive/NewFemme/full-list-of-bad-words_text-file_2022_05_05.txt\"\n",
        "\n",
        "def load_forbidden_words(filepath):\n",
        "    with open(filepath, 'r') as file:\n",
        "      return set(word.strip().lower() for word in file.readlines())"
      ],
      "metadata": {
        "id": "IrAWPXg9EATY"
      },
      "execution_count": null,
      "outputs": []
    },
    {
      "cell_type": "code",
      "source": [
        "def filter_input(user_input, forbidden_words):\n",
        "    words = user_input.split()\n",
        "    for word in words:\n",
        "      if word.lower() in forbidden_words:\n",
        "          return False\n",
        "      return True"
      ],
      "metadata": {
        "id": "ds97erLMGRnz"
      },
      "execution_count": null,
      "outputs": []
    },
    {
      "cell_type": "code",
      "source": [
        "def main():\n",
        "  #mengakses forbidden words dari file\n",
        "  forbidden_words = load_forbidden_words(filepath)\n",
        "\n",
        "  #mendapatkan masukan user\n",
        "  user_input = input(\"Enter your text: \")\n",
        "\n",
        "  if filter_input(user_input, forbidden_words):\n",
        "      print(\"Your input is fine\")\n",
        "  else:\n",
        "      print(\"Sorry, the word is not allowed.\")\n",
        "\n",
        "if __name__ == \"__main__\":\n",
        "    main()"
      ],
      "metadata": {
        "id": "_mvd_t4cGmKs"
      },
      "execution_count": null,
      "outputs": []
    }
  ]
}